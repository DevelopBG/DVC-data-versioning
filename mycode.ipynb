{
 "cells": [
  {
   "cell_type": "code",
   "execution_count": 6,
   "id": "a3c9e49c",
   "metadata": {},
   "outputs": [],
   "source": [
    "import pandas as pd\n",
    "import os\n"
   ]
  },
  {
   "cell_type": "code",
   "execution_count": 7,
   "id": "07a722da",
   "metadata": {},
   "outputs": [],
   "source": [
    "data = {\"Name\":['alice','bob','chirlie'],\n",
    "        'age':[23,34,12],\n",
    "        'city':['ny', 'la','chicago']}\n",
    "df = pd.DataFrame(data)\n"
   ]
  },
  {
   "cell_type": "code",
   "execution_count": 18,
   "id": "4e0b04be",
   "metadata": {},
   "outputs": [],
   "source": [
    "data1 = pd.DataFrame({\"Name\":[\"sugar\"],'age':[20], 'city': [\"kol\"]})\n",
    "# df.loc[len(df.index)] = data1\n",
    "df = pd.concat([df, data1])"
   ]
  },
  {
   "cell_type": "code",
   "execution_count": 19,
   "id": "406b0280",
   "metadata": {},
   "outputs": [
    {
     "name": "stdout",
     "output_type": "stream",
     "text": [
      " csv file is saved to data\\sample_data.csv\n"
     ]
    }
   ],
   "source": [
    "data_dir = \"data\"\n",
    "os.makedirs(data_dir,exist_ok=True)\n",
    "file_path = os.path.join(data_dir, \"sample_data.csv\")\n",
    "df.to_csv(file_path, index = False)\n",
    "print(f\" csv file is saved to {file_path}\")"
   ]
  }
 ],
 "metadata": {
  "kernelspec": {
   "display_name": "llm",
   "language": "python",
   "name": "python3"
  },
  "language_info": {
   "codemirror_mode": {
    "name": "ipython",
    "version": 3
   },
   "file_extension": ".py",
   "mimetype": "text/x-python",
   "name": "python",
   "nbconvert_exporter": "python",
   "pygments_lexer": "ipython3",
   "version": "3.12.7"
  }
 },
 "nbformat": 4,
 "nbformat_minor": 5
}

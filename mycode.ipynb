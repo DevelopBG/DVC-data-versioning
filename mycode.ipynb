{
 "cells": [
  {
   "cell_type": "code",
   "execution_count": 1,
   "id": "a3c9e49c",
   "metadata": {},
   "outputs": [],
   "source": [
    "import pandas as pd\n",
    "import os\n"
   ]
  },
  {
   "cell_type": "code",
   "execution_count": 2,
   "id": "07a722da",
   "metadata": {},
   "outputs": [
    {
     "name": "stdout",
     "output_type": "stream",
     "text": [
      " csv file is saved to data\\sample_data.csv\n"
     ]
    }
   ],
   "source": [
    "data = {\"Name\":['alice','bob','chirlie'],\n",
    "        'age':[23,34,12],\n",
    "        'city':['ny', 'la','chicago']}\n",
    "df = pd.DataFrame(data)\n",
    "data_dir = \"data\"\n",
    "os.makedirs(data_dir,exist_ok=True)\n",
    "file_path = os.path.join(data_dir, \"sample_data.csv\")\n",
    "df.to_csv(file_path, index = False)\n",
    "print(f\" csv file is saved to {file_path}\")"
   ]
  },
  {
   "cell_type": "code",
   "execution_count": null,
   "id": "4e0b04be",
   "metadata": {},
   "outputs": [],
   "source": []
  }
 ],
 "metadata": {
  "kernelspec": {
   "display_name": "llm",
   "language": "python",
   "name": "python3"
  },
  "language_info": {
   "codemirror_mode": {
    "name": "ipython",
    "version": 3
   },
   "file_extension": ".py",
   "mimetype": "text/x-python",
   "name": "python",
   "nbconvert_exporter": "python",
   "pygments_lexer": "ipython3",
   "version": "3.12.7"
  }
 },
 "nbformat": 4,
 "nbformat_minor": 5
}
